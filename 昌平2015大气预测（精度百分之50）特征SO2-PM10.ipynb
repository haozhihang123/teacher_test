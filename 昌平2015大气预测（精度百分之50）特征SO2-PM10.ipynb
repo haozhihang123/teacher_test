{
 "cells": [
  {
   "cell_type": "code",
   "execution_count": 1,
   "metadata": {
    "collapsed": true
   },
   "outputs": [],
   "source": [
    "import pandas as pd\n",
    "from sklearn.model_selection import train_test_split\n",
    "from sklearn.preprocessing import StandardScaler"
   ]
  },
  {
   "cell_type": "code",
   "execution_count": 2,
   "metadata": {
    "scrolled": true
   },
   "outputs": [
    {
     "name": "stdout",
     "output_type": "stream",
     "text": [
      "[[  12.    18.    37.     0.5   21. ]\n",
      " [  13.    24.    35.     0.4   16. ]\n",
      " [   3.     5.    54.     0.3   14. ]\n",
      " ..., \n",
      " [  16.    97.     3.     2.    97. ]\n",
      " [  13.    99.     2.     1.9   93. ]\n",
      " [  12.   101.     3.     2.7  128. ]]\n"
     ]
    }
   ],
   "source": [
    "dt = pd.read_excel(\"./昌平2015大气.xlsx\")\n",
    "data = dt.iloc[:,6:11].values\n",
    "target = dt.iloc[:,11].values\n",
    "print(data)\n",
    "# print(target.shape)"
   ]
  },
  {
   "cell_type": "code",
   "execution_count": 3,
   "metadata": {},
   "outputs": [
    {
     "name": "stdout",
     "output_type": "stream",
     "text": [
      "[[-0.13235062  0.85052097 -1.0152406   0.19056599  0.17446953]\n",
      " [ 3.86281547  2.17682376 -0.80912436  0.39374816  1.1038579 ]\n",
      " [ 0.24053155 -0.63367502 -0.09708643 -0.04387497 -0.22031491]\n",
      " ..., \n",
      " [ 1.5189847   0.28210548 -0.80912436  0.08116021  0.00997601]\n",
      " [-0.50523279 -0.9494614   0.55873798 -0.04387497  0.09222277]\n",
      " [ 1.89186687  0.66104914 -0.86533788  0.08116021  0.17446953]]\n"
     ]
    },
    {
     "name": "stderr",
     "output_type": "stream",
     "text": [
      "D:\\anaconda\\lib\\site-packages\\sklearn\\utils\\validation.py:475: DataConversionWarning: Data with input dtype int64 was converted to float64 by StandardScaler.\n",
      "  warnings.warn(msg, DataConversionWarning)\n"
     ]
    }
   ],
   "source": [
    "x_train,x_test,y_train,y_test = train_test_split(data,target,test_size=0.25,random_state=1)\n",
    "# 特征工程\n",
    "std_x = StandardScaler()\n",
    "x_train = std_x.fit_transform(x_train)\n",
    "x_test = std_x.transform(x_test)\n",
    "std_y = StandardScaler()\n",
    "y_train = std_y.fit_transform(y_train.reshape(-1,1))\n",
    "y_test = std_y.transform(y_test.reshape(-1,1))\n",
    "print(x_train)\n"
   ]
  },
  {
   "cell_type": "code",
   "execution_count": 4,
   "metadata": {},
   "outputs": [
    {
     "data": {
      "text/plain": [
       "(array([ -3.24073962e-18]),\n",
       " array([[ 0.09338407,  0.5297783 ,  0.12915831,  0.01767744,  0.31558916]]))"
      ]
     },
     "execution_count": 4,
     "metadata": {},
     "output_type": "execute_result"
    }
   ],
   "source": [
    "from sklearn.linear_model import LinearRegression,SGDRegressor,Ridge\n",
    "lin_reg = LinearRegression()\n",
    "lin_reg.fit(x_train, y_train)\n",
    "lin_reg.intercept_,lin_reg.coef_"
   ]
  },
  {
   "cell_type": "code",
   "execution_count": 5,
   "metadata": {},
   "outputs": [
    {
     "name": "stdout",
     "output_type": "stream",
     "text": [
      "训练集准确率： 0.54150007433\n",
      "测试集准确率： 0.490297727576\n"
     ]
    }
   ],
   "source": [
    "print(\"训练集准确率：\",lin_reg.score(x_train,y_train))\n",
    "print(\"测试集准确率：\",lin_reg.score(x_test,y_test))"
   ]
  },
  {
   "cell_type": "code",
   "execution_count": 6,
   "metadata": {},
   "outputs": [
    {
     "name": "stdout",
     "output_type": "stream",
     "text": [
      "训练集准确率： 0.539889247331\n",
      "测试集准确率： 0.489210206814\n",
      "[ 0.10848609  0.54221719  0.12088167  0.04045573  0.29403227] [-0.00778458]\n"
     ]
    },
    {
     "name": "stderr",
     "output_type": "stream",
     "text": [
      "D:\\anaconda\\lib\\site-packages\\sklearn\\linear_model\\stochastic_gradient.py:128: FutureWarning: max_iter and tol parameters have been added in <class 'sklearn.linear_model.stochastic_gradient.SGDRegressor'> in 0.19. If both are left unset, they default to max_iter=5 and tol=None. If tol is not None, max_iter defaults to max_iter=1000. From 0.21, default max_iter will be 1000, and default tol will be 1e-3.\n",
      "  \"and default tol will be 1e-3.\" % type(self), FutureWarning)\n",
      "D:\\anaconda\\lib\\site-packages\\sklearn\\utils\\validation.py:578: DataConversionWarning: A column-vector y was passed when a 1d array was expected. Please change the shape of y to (n_samples, ), for example using ravel().\n",
      "  y = column_or_1d(y, warn=True)\n"
     ]
    }
   ],
   "source": [
    "lr_1 = SGDRegressor()\n",
    "lr_1.fit(x_train,y_train)\n",
    "print(\"训练集准确率：\",lr_1.score(x_train,y_train))\n",
    "print(\"测试集准确率：\",lr_1.score(x_test,y_test))\n",
    "print(lr_1.coef_,lr_1.intercept_)"
   ]
  },
  {
   "cell_type": "code",
   "execution_count": 7,
   "metadata": {},
   "outputs": [
    {
     "name": "stdout",
     "output_type": "stream",
     "text": [
      "训练集准确率： 0.541500060328\n",
      "测试集准确率： 0.490294555216\n",
      "[ 0.10848609  0.54221719  0.12088167  0.04045573  0.29403227] [-0.00778458]\n"
     ]
    }
   ],
   "source": [
    "lr_2 = Ridge()\n",
    "lr_2.fit(x_train,y_train)\n",
    "print(\"训练集准确率：\",lr_2.score(x_train,y_train))\n",
    "print(\"测试集准确率：\",lr_2.score(x_test,y_test))\n",
    "print(lr_1.coef_,lr_1.intercept_)"
   ]
  },
  {
   "cell_type": "code",
   "execution_count": 9,
   "metadata": {},
   "outputs": [
    {
     "name": "stdout",
     "output_type": "stream",
     "text": [
      "(8472, 5)\n",
      "(8472,)\n"
     ]
    }
   ],
   "source": [
    "print(data.shape)\n",
    "print(target.shape)"
   ]
  },
  {
   "cell_type": "code",
   "execution_count": 10,
   "metadata": {},
   "outputs": [
    {
     "name": "stdout",
     "output_type": "stream",
     "text": [
      "[ 0.78368602  0.17066467  0.03156934  0.01213733  0.00194265]\n"
     ]
    }
   ],
   "source": [
    "from sklearn.decomposition import PCA\n",
    "pca = PCA(n_components=5)\n",
    "pca.fit(data)\n",
    "print (pca.explained_variance_ratio_)"
   ]
  },
  {
   "cell_type": "code",
   "execution_count": null,
   "metadata": {
    "collapsed": true
   },
   "outputs": [],
   "source": []
  }
 ],
 "metadata": {
  "kernelspec": {
   "display_name": "Python 3",
   "language": "python",
   "name": "python3"
  },
  "language_info": {
   "codemirror_mode": {
    "name": "ipython",
    "version": 3
   },
   "file_extension": ".py",
   "mimetype": "text/x-python",
   "name": "python",
   "nbconvert_exporter": "python",
   "pygments_lexer": "ipython3",
   "version": "3.6.3"
  }
 },
 "nbformat": 4,
 "nbformat_minor": 2
}
