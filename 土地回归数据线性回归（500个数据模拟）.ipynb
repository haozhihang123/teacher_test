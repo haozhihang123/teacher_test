{
 "cells": [
  {
   "cell_type": "code",
   "execution_count": 38,
   "metadata": {
    "collapsed": true
   },
   "outputs": [],
   "source": [
    "import pandas as pd\n",
    "from sklearn.model_selection import train_test_split\n",
    "from sklearn.preprocessing import StandardScaler\n",
    "from sklearn.linear_model import LinearRegression,SGDRegressor,Ridge"
   ]
  },
  {
   "cell_type": "code",
   "execution_count": 39,
   "metadata": {},
   "outputs": [
    {
     "name": "stdout",
     "output_type": "stream",
     "text": [
      "(499, 8)\n",
      "(499,)\n",
      "[ -5.70000000e+00   1.30000000e+00   2.60000000e+01   1.03050000e+03\n",
      "   3.00000000e+00   5.00000000e+00   5.40000000e+01   3.00000000e-01]\n"
     ]
    }
   ],
   "source": [
    "qx = pd.read_excel(\"./2015年气象数据.xlsx\")\n",
    "data = qx.iloc[:,[1,3,4,5,7,8,9,10]].values\n",
    "target = qx.iloc[:,12].values\n",
    "print(data.shape)\n",
    "print(target.shape)\n",
    "print(data[0])"
   ]
  },
  {
   "cell_type": "markdown",
   "metadata": {},
   "source": [
    "### 单纯标准化"
   ]
  },
  {
   "cell_type": "code",
   "execution_count": 40,
   "metadata": {},
   "outputs": [
    {
     "name": "stdout",
     "output_type": "stream",
     "text": [
      "[[ 0.47801725 -0.41023692  0.13760777 ...,  1.64420288 -1.00748347\n",
      "   0.23170481]\n",
      " [ 0.79566593 -0.48439284 -0.96556278 ..., -0.1344052  -0.63269912\n",
      "  -0.50320061]\n",
      " [ 0.4491401  -1.22595209  0.42539139 ...,  1.46925782 -0.91378738\n",
      "   1.57903141]\n",
      " ..., \n",
      " [-0.38829733 -0.55854877 -0.05424798 ...,  0.50706    -0.82009129\n",
      "   0.41543116]\n",
      " [ 1.28657753 -0.55854877 -0.96556278 ..., -0.83418543  0.49165394\n",
      "  -0.87065332]\n",
      " [-0.12840295  0.03469863 -0.7257431  ...,  0.94442265 -0.63269912\n",
      "  -0.01326367]]\n"
     ]
    },
    {
     "name": "stderr",
     "output_type": "stream",
     "text": [
      "D:\\anaconda\\lib\\site-packages\\sklearn\\utils\\validation.py:475: DataConversionWarning: Data with input dtype int64 was converted to float64 by StandardScaler.\n",
      "  warnings.warn(msg, DataConversionWarning)\n"
     ]
    }
   ],
   "source": [
    "x_train,x_test,y_train,y_test = train_test_split(data,target,test_size=0.25,random_state=1)\n",
    "# 特征工程\n",
    "std_x = StandardScaler()\n",
    "x_train = std_x.fit_transform(x_train)\n",
    "x_test = std_x.transform(x_test)\n",
    "std_y = StandardScaler()\n",
    "y_train = std_y.fit_transform(y_train.reshape(-1,1))\n",
    "y_test = std_y.transform(y_test.reshape(-1,1))\n",
    "print(x_train)\n"
   ]
  },
  {
   "cell_type": "code",
   "execution_count": 41,
   "metadata": {},
   "outputs": [
    {
     "name": "stdout",
     "output_type": "stream",
     "text": [
      "训练集准确率： 0.84464072295\n",
      "测试集准确率： 0.867504877638\n",
      "[[ 0.07517544  0.02137536  0.23387459  0.07541796 -0.19424485  0.70161567\n",
      "   0.39274503  0.6004074 ]] [ -7.37119764e-17]\n"
     ]
    }
   ],
   "source": [
    "lin_reg = LinearRegression()\n",
    "lin_reg.fit(x_train, y_train)\n",
    "print(\"训练集准确率：\",lin_reg.score(x_train,y_train))\n",
    "print(\"测试集准确率：\",lin_reg.score(x_test,y_test))\n",
    "print(lin_reg.coef_,lin_reg.intercept_)"
   ]
  },
  {
   "cell_type": "code",
   "execution_count": 42,
   "metadata": {},
   "outputs": [
    {
     "name": "stdout",
     "output_type": "stream",
     "text": [
      "训练集准确率： 0.81136319051\n",
      "测试集准确率： 0.829752968677\n",
      "[ 0.13689371  0.05848248  0.28658799  0.04590637  0.01578554  0.32836848\n",
      "  0.08447696  0.480642  ] [-0.00298519]\n"
     ]
    },
    {
     "name": "stderr",
     "output_type": "stream",
     "text": [
      "D:\\anaconda\\lib\\site-packages\\sklearn\\linear_model\\stochastic_gradient.py:128: FutureWarning: max_iter and tol parameters have been added in <class 'sklearn.linear_model.stochastic_gradient.SGDRegressor'> in 0.19. If both are left unset, they default to max_iter=5 and tol=None. If tol is not None, max_iter defaults to max_iter=1000. From 0.21, default max_iter will be 1000, and default tol will be 1e-3.\n",
      "  \"and default tol will be 1e-3.\" % type(self), FutureWarning)\n",
      "D:\\anaconda\\lib\\site-packages\\sklearn\\utils\\validation.py:578: DataConversionWarning: A column-vector y was passed when a 1d array was expected. Please change the shape of y to (n_samples, ), for example using ravel().\n",
      "  y = column_or_1d(y, warn=True)\n"
     ]
    }
   ],
   "source": [
    "lr_1 = SGDRegressor()\n",
    "lr_1.fit(x_train,y_train)\n",
    "print(\"训练集准确率：\",lr_1.score(x_train,y_train))\n",
    "print(\"测试集准确率：\",lr_1.score(x_test,y_test))\n",
    "print(lr_1.coef_,lr_1.intercept_)"
   ]
  },
  {
   "cell_type": "code",
   "execution_count": 43,
   "metadata": {},
   "outputs": [
    {
     "name": "stdout",
     "output_type": "stream",
     "text": [
      "训练集准确率： 0.844591178564\n",
      "测试集准确率： 0.867417140436\n",
      "[ 0.13689371  0.05848248  0.28658799  0.04590637  0.01578554  0.32836848\n",
      "  0.08447696  0.480642  ] [-0.00298519]\n"
     ]
    }
   ],
   "source": [
    "lr_2 = Ridge()\n",
    "lr_2.fit(x_train,y_train)\n",
    "print(\"训练集准确率：\",lr_2.score(x_train,y_train))\n",
    "print(\"测试集准确率：\",lr_2.score(x_test,y_test))\n",
    "print(lr_1.coef_,lr_1.intercept_)"
   ]
  },
  {
   "cell_type": "markdown",
   "metadata": {},
   "source": [
    "### SVM"
   ]
  },
  {
   "cell_type": "code",
   "execution_count": 44,
   "metadata": {},
   "outputs": [
    {
     "name": "stdout",
     "output_type": "stream",
     "text": [
      "训练集准确率： 0.914827119071\n",
      "测试集准确率： 0.91270376125\n",
      "SVR(C=2, cache_size=200, coef0=0.0, degree=3, epsilon=0.1, gamma=0.1,\n",
      "  kernel='rbf', max_iter=-1, shrinking=True, tol=0.001, verbose=False)\n"
     ]
    },
    {
     "name": "stderr",
     "output_type": "stream",
     "text": [
      "D:\\anaconda\\lib\\site-packages\\sklearn\\utils\\validation.py:578: DataConversionWarning: A column-vector y was passed when a 1d array was expected. Please change the shape of y to (n_samples, ), for example using ravel().\n",
      "  y = column_or_1d(y, warn=True)\n"
     ]
    }
   ],
   "source": [
    "from sklearn.svm import SVR\n",
    "svm = SVR(C=2,gamma=0.1)\n",
    "svm.fit(x_train,y_train)\n",
    "print(\"训练集准确率：\",svm.score(x_train,y_train))\n",
    "print(\"测试集准确率：\",svm.score(x_test,y_test))\n",
    "print(svm)"
   ]
  },
  {
   "cell_type": "markdown",
   "metadata": {},
   "source": [
    "### 决策树"
   ]
  },
  {
   "cell_type": "code",
   "execution_count": 45,
   "metadata": {},
   "outputs": [
    {
     "name": "stdout",
     "output_type": "stream",
     "text": [
      "训练集准确率： 0.891504335565\n",
      "测试集准确率： 0.862244787572\n",
      "DecisionTreeRegressor(criterion='mse', max_depth=5, max_features=None,\n",
      "           max_leaf_nodes=None, min_impurity_decrease=0.0,\n",
      "           min_impurity_split=None, min_samples_leaf=9,\n",
      "           min_samples_split=2, min_weight_fraction_leaf=0.0,\n",
      "           presort=False, random_state=0, splitter='best')\n"
     ]
    }
   ],
   "source": [
    "from sklearn.tree import DecisionTreeRegressor\n",
    "dt = DecisionTreeRegressor(max_depth=5,min_samples_leaf=9,random_state=0)\n",
    "dt.fit(x_train,y_train)\n",
    "print(\"训练集准确率：\",dt.score(x_train,y_train))\n",
    "print(\"测试集准确率：\",dt.score(x_test,y_test))\n",
    "print(dt)"
   ]
  },
  {
   "cell_type": "markdown",
   "metadata": {},
   "source": [
    "### 随机森林"
   ]
  },
  {
   "cell_type": "code",
   "execution_count": 46,
   "metadata": {},
   "outputs": [
    {
     "name": "stdout",
     "output_type": "stream",
     "text": [
      "训练集准确率： 0.909621167006\n",
      "测试集准确率： 0.90151320013\n",
      "RandomForestRegressor(bootstrap=True, criterion='mse', max_depth=5,\n",
      "           max_features='auto', max_leaf_nodes=None,\n",
      "           min_impurity_decrease=0.0, min_impurity_split=None,\n",
      "           min_samples_leaf=4, min_samples_split=2,\n",
      "           min_weight_fraction_leaf=0.0, n_estimators=10, n_jobs=1,\n",
      "           oob_score=False, random_state=0, verbose=0, warm_start=False)\n"
     ]
    },
    {
     "name": "stderr",
     "output_type": "stream",
     "text": [
      "D:\\anaconda\\lib\\site-packages\\ipykernel_launcher.py:3: DataConversionWarning: A column-vector y was passed when a 1d array was expected. Please change the shape of y to (n_samples,), for example using ravel().\n",
      "  This is separate from the ipykernel package so we can avoid doing imports until\n"
     ]
    }
   ],
   "source": [
    "from sklearn.ensemble import RandomForestRegressor\n",
    "randforest = RandomForestRegressor(max_depth=5,min_samples_leaf=4,random_state=0)\n",
    "randforest.fit(x_train,y_train)\n",
    "print(\"训练集准确率：\",randforest.score(x_train,y_train))\n",
    "print(\"测试集准确率：\",randforest.score(x_test,y_test))\n",
    "print(randforest)"
   ]
  },
  {
   "cell_type": "markdown",
   "metadata": {},
   "source": [
    "### 神经网络"
   ]
  },
  {
   "cell_type": "code",
   "execution_count": 47,
   "metadata": {},
   "outputs": [
    {
     "name": "stderr",
     "output_type": "stream",
     "text": [
      "D:\\anaconda\\lib\\site-packages\\sklearn\\neural_network\\multilayer_perceptron.py:1306: DataConversionWarning: A column-vector y was passed when a 1d array was expected. Please change the shape of y to (n_samples, ), for example using ravel().\n",
      "  y = column_or_1d(y, warn=True)\n"
     ]
    },
    {
     "name": "stdout",
     "output_type": "stream",
     "text": [
      "训练集准确率： 0.921482973991\n",
      "测试集准确率： 0.919967235806\n",
      "MLPRegressor(activation='relu', alpha=0.0001, batch_size='auto', beta_1=0.9,\n",
      "       beta_2=0.999, early_stopping=False, epsilon=1e-08,\n",
      "       hidden_layer_sizes=100, learning_rate='constant',\n",
      "       learning_rate_init=0.001, max_iter=200, momentum=0.9,\n",
      "       nesterovs_momentum=True, power_t=0.5, random_state=1, shuffle=True,\n",
      "       solver='adam', tol=0.0001, validation_fraction=0.1, verbose=False,\n",
      "       warm_start=False)\n"
     ]
    },
    {
     "name": "stderr",
     "output_type": "stream",
     "text": [
      "D:\\anaconda\\lib\\site-packages\\sklearn\\neural_network\\multilayer_perceptron.py:564: ConvergenceWarning: Stochastic Optimizer: Maximum iterations (200) reached and the optimization hasn't converged yet.\n",
      "  % self.max_iter, ConvergenceWarning)\n"
     ]
    }
   ],
   "source": [
    "from sklearn.neural_network import MLPRegressor\n",
    "net = MLPRegressor(hidden_layer_sizes=(100),random_state=1)\n",
    "net.fit(x_train,y_train)\n",
    "print(\"训练集准确率：\",net.score(x_train,y_train))\n",
    "print(\"测试集准确率：\",net.score(x_test,y_test))\n",
    "print(net)"
   ]
  },
  {
   "cell_type": "markdown",
   "metadata": {
    "collapsed": true
   },
   "source": [
    "### 单纯PCA无标准化"
   ]
  },
  {
   "cell_type": "code",
   "execution_count": 48,
   "metadata": {},
   "outputs": [
    {
     "name": "stdout",
     "output_type": "stream",
     "text": [
      "pca前： (499, 8)\n",
      "[  7.65144278e-01   1.47874633e-01   4.65845267e-02   3.00638896e-02\n",
      "   7.79578297e-03   1.92833567e-03   3.95838671e-04]\n",
      "PCA(copy=True, iterated_power='auto', n_components='mle', random_state=0,\n",
      "  svd_solver='full', tol=0.0, whiten=False)\n",
      "pca后： (499, 7)\n"
     ]
    }
   ],
   "source": [
    "from sklearn.decomposition import PCA\n",
    "print(\"pca前：\",data.shape)\n",
    "pca = PCA(svd_solver=\"full\",random_state=0,n_components=\"mle\")\n",
    "data = pca.fit_transform(data)\n",
    "print (pca.explained_variance_ratio_)\n",
    "print(pca)\n",
    "print(\"pca后：\",data.shape)\n",
    "x_train,x_test,y_train,y_test = train_test_split(data,target,test_size=0.25,random_state=1)"
   ]
  },
  {
   "cell_type": "code",
   "execution_count": 49,
   "metadata": {},
   "outputs": [
    {
     "name": "stdout",
     "output_type": "stream",
     "text": [
      "训练集准确率： 0.822263458003\n",
      "测试集准确率： 0.841946110438\n",
      "MLPRegressor(activation='relu', alpha=0.0001, batch_size='auto', beta_1=0.9,\n",
      "       beta_2=0.999, early_stopping=False, epsilon=1e-08,\n",
      "       hidden_layer_sizes=100, learning_rate='constant',\n",
      "       learning_rate_init=0.001, max_iter=200, momentum=0.9,\n",
      "       nesterovs_momentum=True, power_t=0.5, random_state=0, shuffle=True,\n",
      "       solver='adam', tol=0.0001, validation_fraction=0.1, verbose=False,\n",
      "       warm_start=False)\n"
     ]
    },
    {
     "name": "stderr",
     "output_type": "stream",
     "text": [
      "D:\\anaconda\\lib\\site-packages\\sklearn\\neural_network\\multilayer_perceptron.py:564: ConvergenceWarning: Stochastic Optimizer: Maximum iterations (200) reached and the optimization hasn't converged yet.\n",
      "  % self.max_iter, ConvergenceWarning)\n"
     ]
    }
   ],
   "source": [
    "from sklearn.neural_network import MLPRegressor\n",
    "net = MLPRegressor(hidden_layer_sizes=(100),random_state=0)\n",
    "net.fit(x_train,y_train)\n",
    "print(\"训练集准确率：\",net.score(x_train,y_train))\n",
    "print(\"测试集准确率：\",net.score(x_test,y_test))\n",
    "print(net)"
   ]
  },
  {
   "cell_type": "markdown",
   "metadata": {},
   "source": [
    "### pca后标准化\n"
   ]
  },
  {
   "cell_type": "code",
   "execution_count": 74,
   "metadata": {},
   "outputs": [
    {
     "name": "stdout",
     "output_type": "stream",
     "text": [
      "pca前： (499, 8)\n",
      "[  7.65144278e-01   1.47874633e-01   4.65845267e-02   3.00638896e-02\n",
      "   7.79578297e-03   1.92833567e-03   3.95838671e-04   2.12714667e-04]\n",
      "PCA(copy=True, iterated_power='auto', n_components=8, random_state=0,\n",
      "  svd_solver='full', tol=0.0, whiten=False)\n",
      "pca后： (499, 8)\n",
      "训练集准确率： 0.940911943522\n",
      "测试集准确率： 0.925548851226\n",
      "MLPRegressor(activation='relu', alpha=0.0001, batch_size='auto', beta_1=0.9,\n",
      "       beta_2=0.999, early_stopping=False, epsilon=1e-08,\n",
      "       hidden_layer_sizes=100, learning_rate='constant',\n",
      "       learning_rate_init=0.001, max_iter=200, momentum=0.9,\n",
      "       nesterovs_momentum=True, power_t=0.5, random_state=0, shuffle=True,\n",
      "       solver='adam', tol=0.0001, validation_fraction=0.1, verbose=False,\n",
      "       warm_start=False)\n"
     ]
    },
    {
     "name": "stderr",
     "output_type": "stream",
     "text": [
      "D:\\anaconda\\lib\\site-packages\\sklearn\\neural_network\\multilayer_perceptron.py:1306: DataConversionWarning: A column-vector y was passed when a 1d array was expected. Please change the shape of y to (n_samples, ), for example using ravel().\n",
      "  y = column_or_1d(y, warn=True)\n"
     ]
    }
   ],
   "source": [
    "from sklearn.decomposition import PCA\n",
    "data = qx.iloc[:,[1,3,4,5,7,8,9,10]].values\n",
    "print(\"pca前：\",data.shape)\n",
    "pca = PCA(svd_solver=\"full\",random_state=0,n_components=8)\n",
    "data = pca.fit_transform(data)\n",
    "print (pca.explained_variance_ratio_)\n",
    "print(pca)\n",
    "print(\"pca后：\",data.shape)\n",
    "\n",
    "# 特征工程\n",
    "std_x = StandardScaler()\n",
    "data = std_x.fit_transform(data)\n",
    "std_y = StandardScaler()\n",
    "target = (std_y.fit_transform(target.reshape(-1,1)))\n",
    "x_train,x_test,y_train,y_test = train_test_split(data,target,test_size=0.25,random_state=1)\n",
    "from sklearn.neural_network import MLPRegressor\n",
    "net = MLPRegressor(hidden_layer_sizes=(100),random_state=0)\n",
    "net.fit(x_train,y_train)\n",
    "print(\"训练集准确率：\",net.score(x_train,y_train))\n",
    "print(\"测试集准确率：\",net.score(x_test,y_test))\n",
    "print(net)"
   ]
  },
  {
   "cell_type": "markdown",
   "metadata": {},
   "source": [
    "### 先标准化后再pca降维"
   ]
  },
  {
   "cell_type": "code",
   "execution_count": 87,
   "metadata": {},
   "outputs": [
    {
     "name": "stdout",
     "output_type": "stream",
     "text": [
      "(499, 8)\n",
      "(499, 1)\n",
      "(374, 1)\n",
      "(374, 1)\n",
      "训练集准确率： 0.70942541649\n",
      "测试集准确率： 0.733362009378\n",
      "MLPRegressor(activation='relu', alpha=0.0001, batch_size='auto', beta_1=0.9,\n",
      "       beta_2=0.999, early_stopping=False, epsilon=1e-08,\n",
      "       hidden_layer_sizes=100, learning_rate='constant',\n",
      "       learning_rate_init=0.001, max_iter=200, momentum=0.9,\n",
      "       nesterovs_momentum=True, power_t=0.5, random_state=0, shuffle=True,\n",
      "       solver='adam', tol=0.0001, validation_fraction=0.1, verbose=False,\n",
      "       warm_start=False)\n"
     ]
    },
    {
     "name": "stderr",
     "output_type": "stream",
     "text": [
      "D:\\anaconda\\lib\\site-packages\\sklearn\\neural_network\\multilayer_perceptron.py:1306: DataConversionWarning: A column-vector y was passed when a 1d array was expected. Please change the shape of y to (n_samples, ), for example using ravel().\n",
      "  y = column_or_1d(y, warn=True)\n"
     ]
    }
   ],
   "source": [
    "# 标准化\n",
    "data = qx.iloc[:,[1,3,4,5,7,8,9,10]].values\n",
    "std_x = StandardScaler()\n",
    "data = std_x.fit_transform(data)\n",
    "std_y = StandardScaler()\n",
    "target = (std_y.fit_transform(target.reshape(-1,1)))\n",
    "print(data.shape)\n",
    "print(target.shape)\n",
    "# 降维\n",
    "pca = PCA(random_state=0,n_components=1)\n",
    "data = pca.fit_transform(data)\n",
    "x_train,x_test,y_train,y_test = train_test_split(data,target,test_size=0.25,random_state=1)\n",
    "print(x_train.shape)\n",
    "print(y_train.shape)\n",
    "from sklearn.neural_network import MLPRegressor\n",
    "net = MLPRegressor(hidden_layer_sizes=(100),random_state=0)\n",
    "net.fit(x_train,y_train)\n",
    "print(\"训练集准确率：\",net.score(x_train,y_train))\n",
    "print(\"测试集准确率：\",net.score(x_test,y_test))\n",
    "print(net)"
   ]
  },
  {
   "cell_type": "code",
   "execution_count": null,
   "metadata": {
    "collapsed": true
   },
   "outputs": [],
   "source": []
  }
 ],
 "metadata": {
  "kernelspec": {
   "display_name": "Python 3",
   "language": "python",
   "name": "python3"
  },
  "language_info": {
   "codemirror_mode": {
    "name": "ipython",
    "version": 3
   },
   "file_extension": ".py",
   "mimetype": "text/x-python",
   "name": "python",
   "nbconvert_exporter": "python",
   "pygments_lexer": "ipython3",
   "version": "3.6.3"
  }
 },
 "nbformat": 4,
 "nbformat_minor": 2
}
